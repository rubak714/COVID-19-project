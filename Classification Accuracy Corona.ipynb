{
 "cells": [
  {
   "cell_type": "code",
   "execution_count": 2,
   "metadata": {},
   "outputs": [],
   "source": [
    "#import libraries \n",
    "import numpy as np \n",
    "import pandas as pd \n",
    "import matplotlib.pyplot as plt \n",
    "import seaborn as sns\n",
    "from sklearn.linear_model import LogisticRegression\n",
    "from sklearn.neighbors import KNeighborsClassifier\n",
    "from sklearn.svm import SVC\n",
    "from sklearn.naive_bayes import GaussianNB\n",
    "from sklearn.tree import DecisionTreeClassifier\n",
    "from sklearn.ensemble import RandomForestClassifier"
   ]
  },
  {
   "cell_type": "code",
   "execution_count": 3,
   "metadata": {},
   "outputs": [
    {
     "data": {
      "text/html": [
       "<div>\n",
       "<style scoped>\n",
       "    .dataframe tbody tr th:only-of-type {\n",
       "        vertical-align: middle;\n",
       "    }\n",
       "\n",
       "    .dataframe tbody tr th {\n",
       "        vertical-align: top;\n",
       "    }\n",
       "\n",
       "    .dataframe thead th {\n",
       "        text-align: right;\n",
       "    }\n",
       "</style>\n",
       "<table border=\"1\" class=\"dataframe\">\n",
       "  <thead>\n",
       "    <tr style=\"text-align: right;\">\n",
       "      <th></th>\n",
       "      <th>fever</th>\n",
       "      <th>bodypain</th>\n",
       "      <th>age</th>\n",
       "      <th>runnynose</th>\n",
       "      <th>diffbreath</th>\n",
       "      <th>infected</th>\n",
       "    </tr>\n",
       "  </thead>\n",
       "  <tbody>\n",
       "    <tr>\n",
       "      <th>0</th>\n",
       "      <td>99.329862</td>\n",
       "      <td>0</td>\n",
       "      <td>26</td>\n",
       "      <td>1</td>\n",
       "      <td>-1</td>\n",
       "      <td>0</td>\n",
       "    </tr>\n",
       "    <tr>\n",
       "      <th>1</th>\n",
       "      <td>98.115263</td>\n",
       "      <td>1</td>\n",
       "      <td>61</td>\n",
       "      <td>1</td>\n",
       "      <td>0</td>\n",
       "      <td>1</td>\n",
       "    </tr>\n",
       "    <tr>\n",
       "      <th>2</th>\n",
       "      <td>99.918088</td>\n",
       "      <td>1</td>\n",
       "      <td>13</td>\n",
       "      <td>0</td>\n",
       "      <td>-1</td>\n",
       "      <td>0</td>\n",
       "    </tr>\n",
       "    <tr>\n",
       "      <th>3</th>\n",
       "      <td>101.344456</td>\n",
       "      <td>1</td>\n",
       "      <td>55</td>\n",
       "      <td>1</td>\n",
       "      <td>0</td>\n",
       "      <td>1</td>\n",
       "    </tr>\n",
       "    <tr>\n",
       "      <th>4</th>\n",
       "      <td>100.056678</td>\n",
       "      <td>1</td>\n",
       "      <td>37</td>\n",
       "      <td>0</td>\n",
       "      <td>1</td>\n",
       "      <td>0</td>\n",
       "    </tr>\n",
       "    <tr>\n",
       "      <th>5</th>\n",
       "      <td>100.667482</td>\n",
       "      <td>0</td>\n",
       "      <td>33</td>\n",
       "      <td>0</td>\n",
       "      <td>-1</td>\n",
       "      <td>0</td>\n",
       "    </tr>\n",
       "    <tr>\n",
       "      <th>6</th>\n",
       "      <td>100.277243</td>\n",
       "      <td>1</td>\n",
       "      <td>38</td>\n",
       "      <td>1</td>\n",
       "      <td>1</td>\n",
       "      <td>0</td>\n",
       "    </tr>\n",
       "  </tbody>\n",
       "</table>\n",
       "</div>"
      ],
      "text/plain": [
       "        fever  bodypain  age  runnynose  diffbreath  infected\n",
       "0   99.329862         0   26          1          -1         0\n",
       "1   98.115263         1   61          1           0         1\n",
       "2   99.918088         1   13          0          -1         0\n",
       "3  101.344456         1   55          1           0         1\n",
       "4  100.056678         1   37          0           1         0\n",
       "5  100.667482         0   33          0          -1         0\n",
       "6  100.277243         1   38          1           1         0"
      ]
     },
     "execution_count": 3,
     "metadata": {},
     "output_type": "execute_result"
    }
   ],
   "source": [
    "df = pd.read_csv('corona.csv') \n",
    "df.head(7)"
   ]
  },
  {
   "cell_type": "code",
   "execution_count": 4,
   "metadata": {},
   "outputs": [
    {
     "data": {
      "text/plain": [
       "(1999, 6)"
      ]
     },
     "execution_count": 4,
     "metadata": {},
     "output_type": "execute_result"
    }
   ],
   "source": [
    "df.shape"
   ]
  },
  {
   "cell_type": "code",
   "execution_count": 5,
   "metadata": {},
   "outputs": [
    {
     "data": {
      "text/plain": [
       "1    1007\n",
       "0     992\n",
       "Name: infected, dtype: int64"
      ]
     },
     "execution_count": 5,
     "metadata": {},
     "output_type": "execute_result"
    }
   ],
   "source": [
    "df['infected'].value_counts()"
   ]
  },
  {
   "cell_type": "code",
   "execution_count": 6,
   "metadata": {},
   "outputs": [
    {
     "name": "stderr",
     "output_type": "stream",
     "text": [
      "F:\\anaconda3\\lib\\site-packages\\seaborn\\_decorators.py:43: FutureWarning: Pass the following variable as a keyword arg: x. From version 0.12, the only valid positional argument will be `data`, and passing other arguments without an explicit keyword will result in an error or misinterpretation.\n",
      "  FutureWarning\n"
     ]
    },
    {
     "data": {
      "text/plain": [
       "<AxesSubplot:xlabel='infected', ylabel='count'>"
      ]
     },
     "execution_count": 6,
     "metadata": {},
     "output_type": "execute_result"
    },
    {
     "data": {
      "image/png": "[encoded data removed]",
      "text/plain": [
       "<Figure size 432x288 with 1 Axes>"
      ]
     },
     "metadata": {
      "needs_background": "light"
     },
     "output_type": "display_data"
    }
   ],
   "source": [
    "sns.countplot(df['infected'],label=\"Count\")"
   ]
  },
  {
   "cell_type": "code",
   "execution_count": 7,
   "metadata": {},
   "outputs": [
    {
     "data": {
      "text/plain": [
       "fever         float64\n",
       "bodypain        int64\n",
       "age             int64\n",
       "runnynose       int64\n",
       "diffbreath      int64\n",
       "infected        int64\n",
       "dtype: object"
      ]
     },
     "execution_count": 7,
     "metadata": {},
     "output_type": "execute_result"
    }
   ],
   "source": [
    "df.dtypes"
   ]
  },
  {
   "cell_type": "code",
   "execution_count": 8,
   "metadata": {},
   "outputs": [],
   "source": [
    "df['fever'] = df['fever'].astype(int)"
   ]
  },
  {
   "cell_type": "code",
   "execution_count": 9,
   "metadata": {},
   "outputs": [],
   "source": [
    "X = df.iloc[:, 2:5].values \n",
    "Y = df.iloc[:, 1].values "
   ]
  },
  {
   "cell_type": "code",
   "execution_count": 10,
   "metadata": {},
   "outputs": [],
   "source": [
    "from sklearn.model_selection import train_test_split\n",
    "X_train, X_test, Y_train, Y_test = train_test_split(X, Y, test_size = 0.3, random_state = 0)"
   ]
  },
  {
   "cell_type": "code",
   "execution_count": 11,
   "metadata": {},
   "outputs": [],
   "source": [
    "#Feature Scaling\n",
    "from sklearn.preprocessing import StandardScaler\n",
    "sc = StandardScaler()\n",
    "X_train = sc.fit_transform(X_train)\n",
    "X_test = sc.transform(X_test)"
   ]
  },
  {
   "cell_type": "code",
   "execution_count": 12,
   "metadata": {},
   "outputs": [],
   "source": [
    "def models(X_train,Y_train):\n",
    "    \n",
    "    #Using Logistic Regression\n",
    "    log = LogisticRegression(random_state = 0)\n",
    "    log.fit(X_train, Y_train)\n",
    "    \n",
    "    #Using KNeighborsClassifier \n",
    "    knn = KNeighborsClassifier(n_neighbors = 5, metric = 'minkowski', p = 2)\n",
    "    knn.fit(X_train, Y_train)\n",
    "\n",
    "    #Using SVC linear\n",
    "    svc_lin = SVC(kernel = 'linear', random_state = 0)\n",
    "    svc_lin.fit(X_train, Y_train)\n",
    "\n",
    "    #Using SVC rbf\n",
    "    svc_rbf = SVC(kernel = 'rbf', random_state = 0)\n",
    "    svc_rbf.fit(X_train, Y_train)\n",
    "\n",
    "    #Using GaussianNB \n",
    "    gauss = GaussianNB()\n",
    "    gauss.fit(X_train, Y_train)\n",
    "\n",
    "    #Using DecisionTreeClassifier \n",
    "    tree = DecisionTreeClassifier(criterion = 'entropy', random_state = 0)\n",
    "    tree.fit(X_train, Y_train)\n",
    "\n",
    "    #Using RandomForestClassifier method of ensemble class to use Random Forest Classification algorithm\n",
    "    forest = RandomForestClassifier(n_estimators = 10, criterion = 'entropy', random_state = 0)\n",
    "    forest.fit(X_train, Y_train)\n",
    "  \n",
    "    #print model accuracy on the training data.\n",
    "    print('[0]Logistic Regression Training Accuracy:', log.score(X_train, Y_train))\n",
    "    print('[1]K Nearest Neighbor Training Accuracy:', knn.score(X_train, Y_train))\n",
    "    print('[2]Support Vector Machine (Linear Classifier) Training Accuracy:', svc_lin.score(X_train, Y_train))\n",
    "    print('[3]Support Vector Machine (RBF Classifier) Training Accuracy:', svc_rbf.score(X_train, Y_train))\n",
    "    print('[4]Gaussian Naive Bayes Training Accuracy:', gauss.score(X_train, Y_train))\n",
    "    print('[5]Decision Tree Classifier Training Accuracy:', tree.score(X_train, Y_train))\n",
    "    print('[6]Random Forest Classifier Training Accuracy:', forest.score(X_train, Y_train))\n",
    "  \n",
    "    return log, knn, svc_lin, svc_rbf, gauss, tree, forest"
   ]
  },
  {
   "cell_type": "code",
   "execution_count": 13,
   "metadata": {},
   "outputs": [
    {
     "name": "stdout",
     "output_type": "stream",
     "text": [
      "[0]Logistic Regression Training Accuracy: 0.5175125089349535\n",
      "[1]K Nearest Neighbor Training Accuracy: 0.6783416726233024\n",
      "[2]Support Vector Machine (Linear Classifier) Training Accuracy: 0.5125089349535382\n",
      "[3]Support Vector Machine (RBF Classifier) Training Accuracy: 0.540385989992852\n",
      "[4]Gaussian Naive Bayes Training Accuracy: 0.5182273052180129\n",
      "[5]Decision Tree Classifier Training Accuracy: 0.7112223016440314\n",
      "[6]Random Forest Classifier Training Accuracy: 0.7055039313795568\n"
     ]
    }
   ],
   "source": [
    "model = models(X_train,Y_train)"
   ]
  },
  {
   "cell_type": "code",
   "execution_count": 14,
   "metadata": {},
   "outputs": [
    {
     "name": "stdout",
     "output_type": "stream",
     "text": [
      "[[159 162]\n",
      " [141 138]]\n",
      "Model[0] Testing Accuracy = \"0.495!\"\n",
      "\n",
      "[[164 157]\n",
      " [135 144]]\n",
      "Model[1] Testing Accuracy = \"0.5133333333333333!\"\n",
      "\n",
      "[[150 171]\n",
      " [127 152]]\n",
      "Model[2] Testing Accuracy = \"0.5033333333333333!\"\n",
      "\n",
      "[[170 151]\n",
      " [162 117]]\n",
      "Model[3] Testing Accuracy = \"0.47833333333333333!\"\n",
      "\n",
      "[[164 157]\n",
      " [150 129]]\n",
      "Model[4] Testing Accuracy = \"0.48833333333333334!\"\n",
      "\n",
      "[[209 112]\n",
      " [163 116]]\n",
      "Model[5] Testing Accuracy = \"0.5416666666666666!\"\n",
      "\n",
      "[[173 148]\n",
      " [134 145]]\n",
      "Model[6] Testing Accuracy = \"0.53!\"\n",
      "\n"
     ]
    }
   ],
   "source": [
    "from sklearn.metrics import confusion_matrix\n",
    "for i in range(len(model)):\n",
    "    cm = confusion_matrix(Y_test, model[i].predict(X_test))\n",
    "  \n",
    "    TN = cm[0][0]\n",
    "    TP = cm[1][1]\n",
    "    FN = cm[1][0]\n",
    "    FP = cm[0][1]\n",
    "  \n",
    "    print(cm)\n",
    "    print('Model[{}] Testing Accuracy = \"{}!\"'.format(i,  (TP + TN) / (TP + TN + FN + FP)))\n",
    "    print()"
   ]
  },
  {
   "cell_type": "code",
   "execution_count": 15,
   "metadata": {},
   "outputs": [],
   "source": [
    "# After k=5-fold Cross Validation:"
   ]
  },
  {
   "cell_type": "code",
   "execution_count": 16,
   "metadata": {},
   "outputs": [],
   "source": [
    "from sklearn.model_selection import cross_val_score"
   ]
  },
  {
   "cell_type": "code",
   "execution_count": 17,
   "metadata": {},
   "outputs": [
    {
     "name": "stdout",
     "output_type": "stream",
     "text": [
      "Logistic Regression:  [0.49642857 0.49285714 0.46428571 0.48571429 0.45519713]\n",
      "K Nearest Neighbor Classifier:  [0.53928571 0.52857143 0.52142857 0.55       0.54480287]\n",
      "Support Vector Machine (Linear Classifier):  [0.49642857 0.48571429 0.46428571 0.48214286 0.49820789]\n",
      "Support Vector Machine (RBF Classifier):  [0.50714286 0.52857143 0.49285714 0.45       0.49462366]\n",
      "Gaussian Naive Bayes:  [0.51071429 0.48928571 0.46428571 0.49285714 0.4516129 ]\n",
      "Decision Tree Classifier:  [0.50357143 0.53214286 0.47857143 0.52857143 0.50537634]\n",
      "Random Forest Classifier:  [0.52142857 0.50714286 0.475      0.54285714 0.5483871 ]\n"
     ]
    }
   ],
   "source": [
    "log_cv = cross_val_score(LogisticRegression(random_state = 0), X_train, Y_train, cv=5)\n",
    "print(\"Logistic Regression: \", log_cv)\n",
    "\n",
    "knn_cv = cross_val_score(KNeighborsClassifier(n_neighbors = 5, metric = 'minkowski', p = 2), X_train, Y_train, cv=5)\n",
    "print(\"K Nearest Neighbor Classifier: \", knn_cv)\n",
    "\n",
    "svc_lin_cv = cross_val_score(SVC(kernel = 'linear', random_state = 0), X_train, Y_train, cv=5)\n",
    "print(\"Support Vector Machine (Linear Classifier): \",svc_lin_cv)\n",
    "\n",
    "\n",
    "svc_rbf_cv = cross_val_score(SVC(kernel = 'rbf', random_state = 0), X_train, Y_train, cv=5)\n",
    "print(\"Support Vector Machine (RBF Classifier): \",svc_rbf_cv)\n",
    "\n",
    "gauss_cv = cross_val_score(GaussianNB(), X_train, Y_train, cv=5)\n",
    "print(\"Gaussian Naive Bayes: \", gauss_cv)\n",
    "\n",
    "tree_cv = cross_val_score(DecisionTreeClassifier(criterion = 'entropy', random_state = 0), X_train, Y_train, cv=5)\n",
    "print(\"Decision Tree Classifier: \", tree_cv)\n",
    "\n",
    "forest_cv = cross_val_score(RandomForestClassifier(n_estimators = 10, criterion = 'entropy', random_state = 0), X_train, Y_train, cv=5)\n",
    "print(\"Random Forest Classifier: \", forest_cv)"
   ]
  },
  {
   "cell_type": "code",
   "execution_count": 18,
   "metadata": {},
   "outputs": [
    {
     "name": "stdout",
     "output_type": "stream",
     "text": [
      "Logistic Regression Accuracy:  0.47889656938044045\n",
      "K Nearest Neighbor Classifier Accuracy:  0.5368177163338453\n",
      "Support Vector Machine - Linear Classifier Accuracy:  0.4853558627752177\n",
      "Gaussian Naive Bayes Classifier Accuracy:  0.48175115207373276\n",
      "Decision Tree Classifier Accuracy:  0.5096466973886329\n",
      "Random Forest Classifier Accuracy:  0.5189631336405529\n"
     ]
    }
   ],
   "source": [
    "log_cv_average = np.average(log_cv)\n",
    "print(\"Logistic Regression Accuracy: \", log_cv_average)\n",
    "\n",
    "knn_cv_average = np.average(knn_cv)\n",
    "print(\"K Nearest Neighbor Classifier Accuracy: \", knn_cv_average)\n",
    "\n",
    "svc_lin_cv_average = np.average(svc_lin_cv)\n",
    "print(\"Support Vector Machine - Linear Classifier Accuracy: \", svc_lin_cv_average)\n",
    "\n",
    "gauss_cv_average = np.average(gauss_cv)\n",
    "print(\"Gaussian Naive Bayes Classifier Accuracy: \", gauss_cv_average)\n",
    "\n",
    "tree_cv_average = np.average(tree_cv)\n",
    "print(\"Decision Tree Classifier Accuracy: \", tree_cv_average)\n",
    "\n",
    "forest_cv_average = np.average(forest_cv)\n",
    "print(\"Random Forest Classifier Accuracy: \", forest_cv_average)"
   ]
  },
  {
   "cell_type": "markdown",
   "metadata": {},
   "source": [
    "### K-NN and Random Forest algorithms perform better than other models."
   ]
  },
  {
   "cell_type": "code",
   "execution_count": null,
   "metadata": {},
   "outputs": [],
   "source": []
  }
 ],
 "metadata": {
  "kernelspec": {
   "display_name": "Python 3 (ipykernel)",
   "language": "python",
   "name": "python3"
  },
  "language_info": {
   "codemirror_mode": {
    "name": "ipython",
    "version": 3
   },
   "file_extension": ".py",
   "mimetype": "text/x-python",
   "name": "python",
   "nbconvert_exporter": "python",
   "pygments_lexer": "ipython3",
   "version": "3.7.11"
  }
 },
 "nbformat": 4,
 "nbformat_minor": 2
}
